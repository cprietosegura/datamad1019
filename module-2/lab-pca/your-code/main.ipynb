{
 "cells": [
  {
   "cell_type": "markdown",
   "metadata": {},
   "source": [
    "# Before your start:\n",
    "- Read the README.md file\n",
    "- Comment as much as you can and use the resources (README.md file)\n",
    "- Happy learning!"
   ]
  },
  {
   "cell_type": "code",
   "execution_count": 1,
   "metadata": {},
   "outputs": [],
   "source": [
    "# Run this code:\n",
    "\n",
    "%matplotlib inline\n",
    "\n",
    "import matplotlib.pyplot as plt"
   ]
  },
  {
   "cell_type": "code",
   "execution_count": 2,
   "metadata": {},
   "outputs": [],
   "source": [
    "# Import numpy and pandas:\n",
    "import numpy as np\n",
    "import pandas as pd\n"
   ]
  },
  {
   "cell_type": "markdown",
   "metadata": {},
   "source": [
    "# Challenge 1 - Reading and Standardizing the Data\n",
    "\n",
    "In this challenge we will work with image data and reduce the dimensions of the data to create a 2 dimensional plot. While we have not worked much with image data before, it can be represented as a numpy array where each pixel is assigned a numeric value. In this lesson, we will look at a dataset of cats and a dataset of dogs and see whether reducing them to two dimensions allows us to see if the data is separable. We will start by loading and processing the data. Run the cell below to load the two csv files and convert them into numpy arrays."
   ]
  },
  {
   "cell_type": "code",
   "execution_count": 3,
   "metadata": {},
   "outputs": [],
   "source": [
    "# Run this code\n",
    "\n",
    "cats = np.array(pd.read_csv(\"https://raw.githubusercontent.com/bioramble/pca/master/cat.csv\", header=None))\n",
    "dogs = np.array(pd.read_csv(\"https://raw.githubusercontent.com/bioramble/pca/master/dog.csv\", header=None))"
   ]
  },
  {
   "cell_type": "markdown",
   "metadata": {},
   "source": [
    "Next, we'll examine the shape of both the cats and the dogs arrays. Print out both shapes below."
   ]
  },
  {
   "cell_type": "code",
   "execution_count": 4,
   "metadata": {},
   "outputs": [
    {
     "data": {
      "text/plain": [
       "(4096, 80)"
      ]
     },
     "execution_count": 4,
     "metadata": {},
     "output_type": "execute_result"
    }
   ],
   "source": [
    "# Your code here:\n",
    "cats.shape"
   ]
  },
  {
   "cell_type": "code",
   "execution_count": 5,
   "metadata": {},
   "outputs": [
    {
     "data": {
      "text/plain": [
       "(4096, 80)"
      ]
     },
     "execution_count": 5,
     "metadata": {},
     "output_type": "execute_result"
    }
   ],
   "source": [
    "dogs.shape"
   ]
  },
  {
   "cell_type": "markdown",
   "metadata": {},
   "source": [
    "What this means is that both arrays contain 80 images each (the number of columns). Each image is comprised of 64x64 pixels (so a total of 4096 pixels per image). The images have been flattened such that all 4096 are in a single row.\n",
    "\n",
    "Print out column 0 of the cats array to see what the pixels values look like."
   ]
  },
  {
   "cell_type": "code",
   "execution_count": 6,
   "metadata": {},
   "outputs": [
    {
     "data": {
      "text/plain": [
       "array([ 64,  23, 250, 137,  55, 173,  18, 134,  19,  47, 109, 164,  41,\n",
       "        78, 108, 108, 247, 105, 158,  54, 103,   4,  23, 102, 239,  72,\n",
       "        42,  21, 168, 109, 112, 177,  22, 233,  15, 236, 250, 137,  32,\n",
       "         5, 178, 109,  24, 107,  53, 241, 226, 143,   5, 136,  98, 100,\n",
       "        89,  66, 228,  92, 255,  88, 230,  56, 160,  69,   6,  24, 195,\n",
       "       183, 239,  35, 154, 154, 122,  18,  87, 106, 174,  69,  28,  60,\n",
       "       223, 101])"
      ]
     },
     "execution_count": 6,
     "metadata": {},
     "output_type": "execute_result"
    }
   ],
   "source": [
    "# Your code here:\n",
    "cats[0]"
   ]
  },
  {
   "cell_type": "code",
   "execution_count": 7,
   "metadata": {},
   "outputs": [
    {
     "data": {
      "text/plain": [
       "array([[64, 64, 64, ..., 77, 64, 64],\n",
       "       [64, 64, 64, ..., 77, 64, 64],\n",
       "       [64, 77, 64, ..., 77, 64, 77],\n",
       "       ...,\n",
       "       [64, 64, 64, ..., 64, 64, 61],\n",
       "       [64, 64, 64, ..., 64, 64, 61],\n",
       "       [61, 61, 61, ..., 64, 64, 61]])"
      ]
     },
     "execution_count": 7,
     "metadata": {},
     "output_type": "execute_result"
    }
   ],
   "source": [
    "cats[:,0].reshape(64,64)"
   ]
  },
  {
   "cell_type": "markdown",
   "metadata": {},
   "source": [
    "Using `matplotlib` we can plot a single cat or a single dog. We do this by reshaping the vector back to a 64x64 image and then using the `imshow` function.\n",
    "\n",
    "Run the code below to look at the first dog and the first cat."
   ]
  },
  {
   "cell_type": "code",
   "execution_count": 8,
   "metadata": {},
   "outputs": [
    {
     "data": {
      "text/plain": [
       "<matplotlib.image.AxesImage at 0x7f39de6829b0>"
      ]
     },
     "execution_count": 8,
     "metadata": {},
     "output_type": "execute_result"
    },
    {
     "data": {
      "image/png": "[encoded data removed]",
      "text/plain": [
       "<Figure size 432x288 with 1 Axes>"
      ]
     },
     "metadata": {
      "needs_background": "light"
     },
     "output_type": "display_data"
    }
   ],
   "source": [
    "# Run this code:\n",
    "fig, ax = plt.subplots()\n",
    "ax.imshow(cats[:,6].reshape(64, 64).T, cmap=plt.cm.bone, interpolation='nearest') "
   ]
  },
  {
   "cell_type": "code",
   "execution_count": 9,
   "metadata": {},
   "outputs": [
    {
     "data": {
      "text/plain": [
       "<matplotlib.image.AxesImage at 0x7f39ddb63358>"
      ]
     },
     "execution_count": 9,
     "metadata": {},
     "output_type": "execute_result"
    },
    {
     "data": {
      "image/png": "[encoded data removed]",
      "text/plain": [
       "<Figure size 432x288 with 1 Axes>"
      ]
     },
     "metadata": {
      "needs_background": "light"
     },
     "output_type": "display_data"
    }
   ],
   "source": [
    "# Run this code:\n",
    "\n",
    "fig, ax = plt.subplots()\n",
    "ax.imshow(dogs[:,20].reshape(64, 64).T, cmap=plt.cm.bone, interpolation='nearest') "
   ]
  },
  {
   "cell_type": "markdown",
   "metadata": {},
   "source": [
    "Next, we would like to create a standardization function. This function will find the mean and standard deviation of each image. We subtract the mean from each pixel and divide each pixel by the standard deviation. Write the function below.\n",
    "\n",
    "Hint: To find the mean and standard deviation of each image, use `numpy`'s version of mean and stadnard deviation and use `axis=0`."
   ]
  },
  {
   "cell_type": "code",
   "execution_count": 10,
   "metadata": {},
   "outputs": [],
   "source": [
    "def standardize(x):\n",
    "    #This function takes as input a numpy array and returns a stadardized numpy array of the same dimensions.\n",
    "    #Sample input: np.array([[1,2,3],[4,5,6]])\n",
    "    #Sample output: np.array([[-1,-1,-1],[1,1,1]])\n",
    "    \n",
    "    mean=np.mean(x, axis=0)\n",
    "    stdv=np.std(x, axis=0)\n",
    "    i=(x-mean)/stdv\n",
    "   \n",
    "    return i\n"
   ]
  },
  {
   "cell_type": "code",
   "execution_count": 11,
   "metadata": {},
   "outputs": [
    {
     "data": {
      "text/plain": [
       "array([0.08483333, 0.08483333, 0.08483333, ..., 0.08483333, 0.08483333,\n",
       "       0.0376196 ])"
      ]
     },
     "execution_count": 11,
     "metadata": {},
     "output_type": "execute_result"
    }
   ],
   "source": [
    "standardize(cats[:,0])"
   ]
  },
  {
   "cell_type": "markdown",
   "metadata": {},
   "source": [
    "Now, use the `np.concatenate` function to combine the cats and dogs arrays. Use `axis=1` to combine the two correctly. Make sure to put dogs first."
   ]
  },
  {
   "cell_type": "code",
   "execution_count": 12,
   "metadata": {},
   "outputs": [
    {
     "data": {
      "text/plain": [
       "array([[224, 131, 127, ...,  60, 223, 101],\n",
       "       [224, 124, 136, ...,  50, 224, 107],\n",
       "       [224, 104, 127, ...,  63, 225, 106],\n",
       "       ...,\n",
       "       [100, 104, 115, ..., 105, 180, 114],\n",
       "       [100, 124, 104, ..., 118, 182,  91],\n",
       "       [100, 124, 104, ..., 104, 177, 113]])"
      ]
     },
     "execution_count": 12,
     "metadata": {},
     "output_type": "execute_result"
    }
   ],
   "source": [
    "# Your code here:\n",
    "dogs_cats=np.concatenate((dogs, cats), axis=1)\n",
    "dogs_cats"
   ]
  },
  {
   "cell_type": "markdown",
   "metadata": {},
   "source": [
    "Standardize the concatenated array below."
   ]
  },
  {
   "cell_type": "code",
   "execution_count": 13,
   "metadata": {},
   "outputs": [],
   "source": [
    "# Your code here:\n",
    "\n",
    "new_array=[]\n",
    "\n",
    "for d in dogs_cats.T:\n",
    "    arr=standardize(d)\n",
    "    new_array.append(arr)\n",
    "\n",
    "#len(new_array)"
   ]
  },
  {
   "cell_type": "code",
   "execution_count": 14,
   "metadata": {},
   "outputs": [
    {
     "data": {
      "text/plain": [
       "[array([2.37662907, 2.37662907, 2.37662907, ..., 0.22755315, 0.22755315,\n",
       "        0.22755315]),\n",
       " array([-0.30753004, -0.40500299, -0.68349716, ..., -0.68349716,\n",
       "        -0.40500299, -0.40500299]),\n",
       " array([0.93254857, 1.15681724, 0.93254857, ..., 0.63352369, 0.35941754,\n",
       "        0.35941754]),\n",
       " array([-0.30515588, -0.32739445, -0.32739445, ..., -1.41708409,\n",
       "        -1.28365271, -1.0390285 ]),\n",
       " array([ 0.58779816,  0.40399157,  0.40399157, ..., -0.26996593,\n",
       "        -0.26996593,  0.01595543]),\n",
       " array([-1.2410672 , -1.3604855 , -1.46663509, ..., -1.3604855 ,\n",
       "        -1.46663509, -1.46663509]),\n",
       " array([ 0.40174   ,  0.40174   ,  0.59225847, ..., -0.76042264,\n",
       "        -0.55085233, -0.07455616]),\n",
       " array([-1.0382953 , -1.15933648, -1.61324091, ..., -1.68889165,\n",
       "        -1.85532327, -1.85532327]),\n",
       " array([-0.24093584, -0.24093584, -0.29962822, ..., -0.53439772,\n",
       "        -0.53439772, -0.53439772]),\n",
       " array([1.18951595, 1.18951595, 1.18951595, ..., 0.74786826, 0.74786826,\n",
       "        0.74786826]),\n",
       " array([-1.39002703, -1.39002703, -1.6777354 , ..., -0.6168108 ,\n",
       "        -0.45497485, -0.45497485]),\n",
       " array([ 1.2035241 ,  0.72440711,  0.72440711, ..., -0.80277829,\n",
       "        -0.80277829, -0.62310942]),\n",
       " array([-0.91780851, -1.04032416, -1.16283981, ...,  2.04707018,\n",
       "         2.04707018,  2.04707018]),\n",
       " array([-0.65233857, -0.65233857, -0.65233857, ...,  2.64383849,\n",
       "         2.64383849,  2.39967723]),\n",
       " array([ 0.21409948,  0.21409948,  0.21409948, ..., -0.3109287 ,\n",
       "        -0.3109287 , -0.35725471]),\n",
       " array([-0.55742731, -0.55742731, -0.67170384, ...,  1.15672068,\n",
       "         0.83674639,  0.83674639]),\n",
       " array([-0.11894995, -0.11894995, -0.11894995, ..., -1.51307548,\n",
       "        -1.2900154 , -1.1970737 ]),\n",
       " array([0.57760885, 0.57760885, 0.36284721, ..., 1.09661616, 1.23979059,\n",
       "        1.23979059]),\n",
       " array([ 0.25066588,  0.25066588,  0.45326058, ..., -1.41511279,\n",
       "        -1.41511279, -1.03243391]),\n",
       " array([-1.26576449, -1.26576449, -1.09816441, ..., -1.17434627,\n",
       "        -1.09816441, -0.9458007 ]),\n",
       " array([-1.28876623, -1.28876623, -1.28876623, ..., -1.27255558,\n",
       "        -1.27255558, -1.27255558]),\n",
       " array([-1.60635214, -1.60635214, -1.60635214, ..., -0.92040781,\n",
       "        -0.92040781, -0.97420736]),\n",
       " array([ 1.57810973,  1.57810973,  1.44910226, ..., -0.90989138,\n",
       "        -1.09418776, -1.09418776]),\n",
       " array([-2.08436   , -2.08436   , -1.93271707, ..., -1.13314523,\n",
       "        -1.39507394, -1.53293115]),\n",
       " array([-0.78273755, -0.78273755, -0.78273755, ..., -0.78273755,\n",
       "        -0.61633186, -0.78273755]),\n",
       " array([-1.92160978, -1.92160978, -1.92160978, ...,  1.00950027,\n",
       "         1.12469674,  1.12469674]),\n",
       " array([-0.9525075 , -0.9525075 , -0.99064373, ..., -1.12412057,\n",
       "        -0.9525075 , -0.72369006]),\n",
       " array([ 1.52724828,  1.52724828,  1.52724828, ..., -1.60654853,\n",
       "        -1.60654853, -1.60654853]),\n",
       " array([-1.20886777, -1.22187683, -1.20886777, ..., -1.20886777,\n",
       "        -1.22187683, -1.22187683]),\n",
       " array([0.65417645, 0.7361963 , 0.7361963 , ..., 0.30969304, 0.55575262,\n",
       "        0.19486524]),\n",
       " array([-1.54269112, -1.54269112, -1.40385621, ...,  0.22745402,\n",
       "         0.26216275,  0.26216275]),\n",
       " array([-0.24812732, -0.24812732, -0.60391975, ...,  0.5312275 ,\n",
       "         0.37874504,  0.37874504]),\n",
       " array([-0.52964926, -0.52964926, -0.52964926, ..., -0.52964926,\n",
       "        -0.52964926, -0.38642542]),\n",
       " array([-2.02200115, -2.02200115, -1.90982077, ...,  0.87866279,\n",
       "         0.87866279,  0.87866279]),\n",
       " array([-1.54464976, -1.54464976, -1.54464976, ..., -1.54464976,\n",
       "        -1.54464976, -1.54464976]),\n",
       " array([-1.13501706, -1.13501706, -1.13501706, ..., -0.32864046,\n",
       "        -0.47983607, -0.47983607]),\n",
       " array([-2.20683157, -2.20683157, -2.20683157, ...,  0.8362849 ,\n",
       "         0.76440026,  0.76440026]),\n",
       " array([-1.33178389, -1.33178389, -1.41672951, ..., -1.33178389,\n",
       "        -1.72253374, -1.80747936]),\n",
       " array([-1.98489704, -2.04388311, -2.04388311, ..., -0.27430106,\n",
       "        -0.27430106, -0.52499185]),\n",
       " array([ 0.27990359,  0.01538516, -0.37361252, ..., -0.5292116 ,\n",
       "        -0.70037058, -0.76261021]),\n",
       " array([-1.85134553, -1.85134553, -1.85134553, ...,  0.85646552,\n",
       "         1.34561848,  1.41549748]),\n",
       " array([ 1.82704939,  1.75851423,  1.68997907, ..., -0.36607582,\n",
       "        -0.4003434 , -0.29754066]),\n",
       " array([-1.85956811, -2.20176385, -2.43589778, ...,  0.589833  ,\n",
       "         0.589833  ,  0.5538124 ]),\n",
       " array([-0.05720659, -0.05720659, -0.05720659, ..., -0.70822614,\n",
       "        -0.70822614, -1.09883787]),\n",
       " array([-0.65409139, -0.35456374, -0.63745096, ...,  0.3443341 ,\n",
       "         0.32769368,  0.44417665]),\n",
       " array([ 1.73173534,  1.71602803,  1.73173534, ..., -1.34689845,\n",
       "        -0.95421557, -0.34163027]),\n",
       " array([0.56017097, 0.53560869, 0.49876528, ..., 0.75666916, 0.73210689,\n",
       "        0.71982575]),\n",
       " array([ 0.3647689 ,  0.17693572,  0.33061741, ..., -2.6576377 ,\n",
       "        -2.62348621, -2.62348621]),\n",
       " array([0.97496023, 1.15128409, 1.11059397, ..., 0.59518575, 0.73081949,\n",
       "        0.676566  ]),\n",
       " array([-2.45196441, -2.45196441, -2.45196441, ..., -0.87471602,\n",
       "        -0.67170385, -0.56238961]),\n",
       " array([0.88384984, 0.88384984, 0.88384984, ..., 0.36142585, 0.23081986,\n",
       "        0.47337385]),\n",
       " array([ 3.39534808,  3.39534808,  3.35973703, ..., -0.00550772,\n",
       "         0.03010334,  0.03010334]),\n",
       " array([0.08822367, 0.14941479, 0.24120148, ..., 1.12847273, 1.52621502,\n",
       "        2.13812623]),\n",
       " array([-1.47008747, -1.48748978, -1.41788053, ..., -1.47008747,\n",
       "        -1.41788053, -1.31346666]),\n",
       " array([ 0.36291312,  0.31715308,  0.27139303, ..., -0.30060751,\n",
       "        -0.20908743, -0.14044736]),\n",
       " array([-1.12153179, -1.13585454, -1.15017729, ...,  0.49693942,\n",
       "         0.48261667,  0.48261667]),\n",
       " array([0.91205362, 0.89121784, 1.47461962, ..., 2.82894518, 2.76643785,\n",
       "        2.74560207]),\n",
       " array([ 1.96792908,  0.55777821,  0.22316613, ..., -0.18314853,\n",
       "        -0.30265284, -0.42215715]),\n",
       " array([-1.20126292, -1.18717311, -1.1730833 , ...,  1.20809455,\n",
       "         1.22218436,  1.23627417]),\n",
       " array([-1.85817305, -1.94069874, -1.17733605, ..., -0.68218187,\n",
       "        -0.82660184, -0.90912753]),\n",
       " array([-0.14132412, -0.26593726, -0.58637103, ..., -1.17383295,\n",
       "        -1.28064421, -1.4408611 ]),\n",
       " array([1.19123712, 1.42286813, 1.86296705, ..., 0.56583339, 0.7743013 ,\n",
       "        0.8437906 ]),\n",
       " array([ 1.31726898,  1.31726898,  1.31726898, ...,  0.16452694,\n",
       "         0.11779415, -0.00682661]),\n",
       " array([-1.66159487, -1.50240547, -1.50240547, ..., -1.11580265,\n",
       "        -1.13854399, -1.16128533]),\n",
       " array([-1.04560429, -1.19388307, -1.16422731, ..., -0.60076797,\n",
       "        -0.66007948, -0.67490735]),\n",
       " array([ 0.93769802,  0.92112394,  0.92112394, ..., -1.59813627,\n",
       "        -1.54841403, -1.10091386]),\n",
       " array([-0.81971811, -0.77688456, -0.76260671, ...,  0.60806708,\n",
       "         0.05123086, -0.30571544]),\n",
       " array([-1.42122609, -1.42122609, -1.42122609, ..., -0.44995446,\n",
       "        -0.51385391, -0.23269633]),\n",
       " array([-0.94074782, -1.11237069, -1.3368006 , ..., -0.22785282,\n",
       "        -0.3334669 , -0.41267745]),\n",
       " array([-1.91809219, -1.93465742, -1.91809219, ..., -1.95122264,\n",
       "        -1.95122264, -1.95122264]),\n",
       " array([-2.44182959, -2.44182959, -2.44182959, ..., -2.45817798,\n",
       "        -2.45817798, -2.45817798]),\n",
       " array([-0.80837759, -0.80837759, -0.79090773, ..., -0.66861872,\n",
       "        -0.63367901, -0.59873929]),\n",
       " array([-1.65538551, -1.62650915, -1.56875642, ..., -1.64094733,\n",
       "        -1.64094733, -1.64094733]),\n",
       " array([-3.23323767, -3.25360505, -3.25360505, ...,  1.06428034,\n",
       "         1.10501511,  1.20685203]),\n",
       " array([-0.05822786, -0.03850234, -0.01877681, ...,  0.33628264,\n",
       "         0.27710607,  0.31655712]),\n",
       " array([1.50020123, 1.50020123, 1.50020123, ..., 0.79423995, 0.83346002,\n",
       "        0.89229013]),\n",
       " array([-1.81395653, -1.11018084,  0.05705689, ...,  1.43027775,\n",
       "         0.17721372, -1.62513867]),\n",
       " array([-1.20040955, -1.1555871 , -1.20040955, ..., -1.18920394,\n",
       "        -1.1555871 , -1.18920394]),\n",
       " array([-1.96502931, -1.30339954, -1.30339954, ...,  0.29129785,\n",
       "        -0.09889407, -0.09889407]),\n",
       " array([1.40507148, 1.43412363, 1.37601933, ..., 0.95476315, 1.01286745,\n",
       "        1.02739353]),\n",
       " array([0.08483333, 0.08483333, 0.08483333, ..., 0.08483333, 0.08483333,\n",
       "        0.0376196 ]),\n",
       " array([-1.50629151, -1.50629151, -1.56078403, ..., -1.36097813,\n",
       "        -1.50629151, -1.76058993]),\n",
       " array([1.80099272, 1.80099272, 1.80099272, ..., 1.73863632, 1.61392352,\n",
       "        1.73863632]),\n",
       " array([1.43363202, 1.43363202, 1.43363202, ..., 0.61899217, 1.13105151,\n",
       "        1.13105151]),\n",
       " array([-0.24261528, -0.24261528, -0.24261528, ..., -0.55594253,\n",
       "        -0.41668598, -0.29483649]),\n",
       " array([ 0.77724469,  0.77724469,  0.77724469, ..., -0.97290043,\n",
       "        -1.27797159, -1.27797159]),\n",
       " array([-1.14075696, -1.14075696, -1.14075696, ..., -0.3545972 ,\n",
       "        -0.3545972 , -0.21165907]),\n",
       " array([0.69507199, 0.69507199, 0.69507199, ..., 0.30490427, 0.30490427,\n",
       "        0.30490427]),\n",
       " array([-1.58713199, -1.58713199, -1.58713199, ...,  0.8828893 ,\n",
       "         0.8828893 ,  0.8828893 ]),\n",
       " array([-1.19762528, -1.23694708, -1.07965988, ..., -0.75197822,\n",
       "        -1.23694708, -1.19762528]),\n",
       " array([-0.45578272, -0.45578272, -0.45578272, ...,  1.44935094,\n",
       "         1.44935094,  1.44935094]),\n",
       " array([-0.12882989, -0.12882989,  0.0740487 , ...,  1.25443324,\n",
       "         1.14377219,  1.10688517]),\n",
       " array([-1.48890725, -1.62220822, -1.50371847, ..., -1.38522871,\n",
       "        -1.38522871, -1.42966237]),\n",
       " array([-0.13093046, -0.13093046,  0.11778016, ..., -0.9836526 ,\n",
       "        -0.9836526 , -0.93035747]),\n",
       " array([-0.28218907, -0.25035678, -0.09119532, ...,  0.25895989,\n",
       "         0.48178593,  0.25895989]),\n",
       " array([-0.21292752, -0.67044085, -0.96455657, ..., -0.21292752,\n",
       "        -0.67044085, -0.67044085]),\n",
       " array([ 2.45299663,  2.45299663,  2.41468017, ..., -0.93800939,\n",
       "        -0.93800939, -0.78474358]),\n",
       " array([ 0.3784883 ,  0.26845555,  0.08506764, ..., -0.35506336,\n",
       "        -0.61180644, -0.75851677]),\n",
       " array([1.35370214, 1.35370214, 1.35370214, ..., 1.52461528, 1.52461528,\n",
       "        1.52461528]),\n",
       " array([-1.93602292, -1.93602292, -1.93602292, ..., -1.49275616,\n",
       "        -1.34500058, -1.10489776]),\n",
       " array([ 0.86421208,  0.77658297,  0.61885059, ..., -0.76568924,\n",
       "        -0.87084416, -0.76568924]),\n",
       " array([-1.6854706 , -1.6854706 , -1.6854706 , ..., -0.94151584,\n",
       "        -0.94151584, -1.08764981]),\n",
       " array([-2.19229424, -0.62142358,  1.25348656, ..., -0.23292869,\n",
       "        -0.01334461,  0.22313054]),\n",
       " array([-1.26891378, -1.26891378, -1.10050676, ...,  0.26546124,\n",
       "         0.41515636,  0.41515636]),\n",
       " array([ 2.36964728,  2.36964728,  2.36964728, ..., -0.3354024 ,\n",
       "        -0.07450928,  0.00787802]),\n",
       " array([-0.9072092 , -0.76271189, -0.49177944, ..., -0.76271189,\n",
       "        -0.76271189, -0.96139569]),\n",
       " array([-0.90160329, -0.90160329, -0.90160329, ...,  1.9064477 ,\n",
       "         2.11757935,  2.11757935]),\n",
       " array([-2.36567542, -2.35016513, -2.11751075, ...,  0.1935227 ,\n",
       "         0.1935227 ,  0.34862561]),\n",
       " array([ 0.84192841,  0.84192841,  0.84192841, ..., -1.19953875,\n",
       "        -1.37287086, -1.37287086]),\n",
       " array([-0.01945102, -0.01945102, -0.31657393, ..., -1.29283491,\n",
       "        -0.76225829, -0.31657393]),\n",
       " array([ 0.50187668, -0.287471  , -1.09937146, ..., -1.79850798,\n",
       "        -1.93382472, -1.79850798]),\n",
       " array([1.38197065, 1.29053386, 1.29053386, ..., 1.29053386, 1.29053386,\n",
       "        1.15990986]),\n",
       " array([-1.15222148, -1.00660287, -0.01963228, ..., -1.4758184 ,\n",
       "        -1.31401994, -1.16840133]),\n",
       " array([ 1.94265179,  1.94265179,  1.94265179, ..., -0.5683687 ,\n",
       "        -0.5683687 , -0.5683687 ]),\n",
       " array([-2.14421318, -2.14421318, -2.14421318, ..., -1.72474208,\n",
       "        -1.72474208, -1.41013875]),\n",
       " array([ 1.20195464, -0.87251194, -3.81133961, ...,  0.55368384,\n",
       "         0.55368384,  0.92103729]),\n",
       " array([ 2.258456  ,  2.258456  ,  2.258456  , ..., -0.80438149,\n",
       "        -0.80438149, -0.80438149]),\n",
       " array([-0.11836705, -0.91551897, -1.2053924 , ...,  1.14982919,\n",
       "         0.85995577,  0.85995577]),\n",
       " array([-1.80703709, -1.80703709, -1.80703709, ...,  0.58690694,\n",
       "         0.93385536,  0.93385536]),\n",
       " array([-0.7810737 , -0.7810737 , -0.7810737 , ..., -0.08277908,\n",
       "         0.12260169,  0.12260169]),\n",
       " array([0.86912647, 0.86912647, 0.86912647, ..., 0.0746643 , 0.52557527,\n",
       "        0.74029477]),\n",
       " array([ 0.48715823,  0.26332065, -0.15948367, ...,  0.26332065,\n",
       "         0.7109958 ,  0.7109958 ]),\n",
       " array([-1.93463329, -1.93463329, -1.93463329, ..., -1.72046415,\n",
       "        -1.8028369 , -1.52276957]),\n",
       " array([-1.48574857, -1.34564567, -1.88270678, ..., -3.91419877,\n",
       "        -3.8674978 , -3.98425022]),\n",
       " array([-1.59677183, -1.58367625, -1.55748509, ..., -1.51819835,\n",
       "        -1.72772762, -1.96344804]),\n",
       " array([ 1.61284225,  1.58291432,  1.46320259, ..., -0.09304986,\n",
       "        -0.48211297, -0.54196883]),\n",
       " array([1.05852386, 1.05852386, 1.17531391, ..., 0.50377113, 0.4161786 ,\n",
       "        0.00741343]),\n",
       " array([-0.15672934,  0.01661931,  0.0032848 , ...,  1.28339791,\n",
       "         1.28339791,  1.28339791]),\n",
       " array([-1.70267507, -1.6443293 , -1.61515642, ..., -0.85666144,\n",
       "        -0.81290212, -0.75455635]),\n",
       " array([ 0.94654876,  0.80760682,  0.83539521, ..., -0.63738937,\n",
       "        -0.66517776, -0.94306165]),\n",
       " array([ 0.43480601,  0.2701056 ,  0.2701056 , ..., -0.85285174,\n",
       "        -0.9127428 , -0.80793344]),\n",
       " array([-0.15280088, -0.31753511, -0.64700358, ...,  1.18860643,\n",
       "         1.0238722 ,  0.45906912]),\n",
       " array([-0.45172627, -0.23830121, -0.38058458, ...,  1.52245557,\n",
       "         1.57581183,  1.55802641]),\n",
       " array([-1.22895052, -1.37259045, -1.40451043, ...,  1.14908822,\n",
       "         1.14908822,  1.1810082 ]),\n",
       " array([1.52696597, 1.61397808, 1.52696597, ..., 0.59158573, 0.70035087,\n",
       "        0.7221039 ]),\n",
       " array([-0.56202478, -0.58496708, -0.51614017, ...,  1.08982094,\n",
       "         1.29630165,  1.41101316]),\n",
       " array([ 1.79215731, -0.31401932, -0.31401932, ...,  1.50817844,\n",
       "         1.50817844,  1.5436758 ]),\n",
       " array([-0.7412813 , -0.84724145, -0.78366536, ..., -1.41942628,\n",
       "        -1.33465815, -1.46181034]),\n",
       " array([ 2.20642712,  2.20642712,  2.28651046, ...,  1.66586455,\n",
       "         0.60476024, -1.01692747]),\n",
       " array([-2.0327414 , -2.01265235, -1.93229614, ...,  1.96498009,\n",
       "         1.96498009,  1.96498009]),\n",
       " array([0.72998652, 0.67802676, 0.67802676, ..., 2.31475942, 2.28877954,\n",
       "        2.31475942]),\n",
       " array([-0.49402989, -0.41673925, -0.49402989, ..., -0.49402989,\n",
       "        -0.31368505, -0.2879215 ]),\n",
       " array([-1.30925783, -1.41291532, -1.37836282, ...,  0.15922323,\n",
       "         0.10739449,  0.17649948]),\n",
       " array([-1.97565349, -2.06224729, -1.95833473, ...,  0.11991634,\n",
       "         0.10259758,  0.10259758]),\n",
       " array([ 0.90354346,  0.44250508,  0.29942421, ..., -0.76573341,\n",
       "        -0.65444829, -0.46367379]),\n",
       " array([ 1.2429442 ,  1.31991908,  1.55084372, ..., -1.6821013 ,\n",
       "        -0.98932737, -1.66285758]),\n",
       " array([ 2.05135657,  2.02097615,  1.92983491, ..., -0.91073374,\n",
       "        -0.94111415, -0.94111415]),\n",
       " array([-0.88930512, -0.57792057, -0.24923688, ...,  1.70556614,\n",
       "         1.51527558,  1.48067729]),\n",
       " array([ 0.69346272,  0.30330293,  0.48337668, ..., -1.10727478,\n",
       "        -0.80715186, -0.98722561]),\n",
       " array([ 0.00576157, -0.34290753,  0.15256961, ..., -0.06764245,\n",
       "        -0.28785452, -0.25115251]),\n",
       " array([ 0.08199086, -0.00642738, -0.91271424, ...,  0.61250024,\n",
       "        -0.3601003 ,  0.43566378]),\n",
       " array([-1.7521382 , -1.41242524, -1.64486042, ...,  0.51857473,\n",
       "         0.66161176,  0.87616731]),\n",
       " array([-0.25929941, -0.42601391, -0.52127933, ..., -1.02142281,\n",
       "        -1.14050459, -0.78325925]),\n",
       " array([-0.13339312, -0.3023935 , -1.31639577, ...,  1.89461143,\n",
       "         1.79803978,  2.18432636]),\n",
       " array([ 1.03956538,  1.11943955,  0.86384222, ..., -1.05313775,\n",
       "        -1.14898675, -1.19691125]),\n",
       " array([-1.04856168, -1.00103402, -0.95350635, ..., -0.59704887,\n",
       "        -0.33564672, -1.11985318]),\n",
       " array([-1.76384423, -1.69152395, -1.76384423, ...,  0.27920379,\n",
       "         0.333444  ,  0.333444  ]),\n",
       " array([-1.80817356, -2.06459792, -1.73124626, ..., -0.65426398,\n",
       "        -0.32091232, -0.67990641]),\n",
       " array([1.42293481, 1.44036713, 1.45779946, ..., 0.67334483, 0.70820948,\n",
       "        0.62104786]),\n",
       " array([-0.20363951, -0.05437635, -0.07925354, ...,  0.11976401,\n",
       "        -0.45241144,  0.09488681])]"
      ]
     },
     "execution_count": 14,
     "metadata": {},
     "output_type": "execute_result"
    }
   ],
   "source": [
    "new_array"
   ]
  },
  {
   "cell_type": "markdown",
   "metadata": {},
   "source": [
    "# Challenge 2 - Using PCA\n",
    "\n",
    "Now that we have created a standardized matrix of cats and dogs, we'll find the two most important components in the data.\n",
    "\n",
    "Load the `PCA` function from `statsmodels` (read about this function [here](https://www.statsmodels.org/dev/generated/statsmodels.multivariate.pca.PCA.html)) and apply the function to our standarized data. Create a PCA model with two components."
   ]
  },
  {
   "cell_type": "code",
   "execution_count": 15,
   "metadata": {},
   "outputs": [
    {
     "data": {
      "text/plain": [
       "array([[-0.12520311,  0.08131982],\n",
       "       [-0.10446685, -0.03255876],\n",
       "       [ 0.02940115, -0.0385015 ],\n",
       "       [-0.02047627, -0.10649175],\n",
       "       [-0.09511212,  0.06132067],\n",
       "       [ 0.02365137, -0.14064375],\n",
       "       [-0.06461175, -0.02679349],\n",
       "       [-0.049946  , -0.11092533],\n",
       "       [-0.04353321, -0.11035246],\n",
       "       [-0.1238158 ,  0.03951258],\n",
       "       [-0.00695552, -0.10709227],\n",
       "       [-0.06635796, -0.04071079],\n",
       "       [-0.02884524, -0.02972931],\n",
       "       [-0.00485573, -0.04344616],\n",
       "       [-0.06979653, -0.08118059],\n",
       "       [-0.05992885, -0.09488069],\n",
       "       [-0.04776069, -0.01498634],\n",
       "       [-0.12492966, -0.04894822],\n",
       "       [-0.05891826, -0.06459815],\n",
       "       [-0.05288303, -0.14240222],\n",
       "       [ 0.00404658, -0.09162147],\n",
       "       [-0.01556119, -0.11726774],\n",
       "       [-0.03043197, -0.03409473],\n",
       "       [-0.04142118, -0.1175943 ],\n",
       "       [-0.08817198, -0.07167122],\n",
       "       [-0.00256964, -0.13645941],\n",
       "       [-0.00282919, -0.08298848],\n",
       "       [-0.00512866, -0.05968041],\n",
       "       [-0.05015597, -0.1461406 ],\n",
       "       [-0.03923434, -0.0647943 ],\n",
       "       [-0.02924344, -0.06483054],\n",
       "       [-0.03087342, -0.05067833],\n",
       "       [-0.0952689 , -0.07901249],\n",
       "       [-0.05111279, -0.10577396],\n",
       "       [ 0.02194353, -0.13514135],\n",
       "       [-0.05640995, -0.00028821],\n",
       "       [ 0.03587646, -0.10769271],\n",
       "       [-0.01234204, -0.0854224 ],\n",
       "       [ 0.01399569, -0.1298548 ],\n",
       "       [-0.09480489, -0.03024289],\n",
       "       [-0.05864853, -0.11696992],\n",
       "       [-0.03608311,  0.09520404],\n",
       "       [ 0.02137081, -0.10379061],\n",
       "       [-0.0353745 , -0.07154677],\n",
       "       [ 0.025253  , -0.03162807],\n",
       "       [-0.05665793,  0.08867964],\n",
       "       [-0.08127374,  0.09243008],\n",
       "       [-0.01246409, -0.00240776],\n",
       "       [-0.03249111,  0.07270801],\n",
       "       [ 0.04645038, -0.12791067],\n",
       "       [-0.08558373,  0.03048017],\n",
       "       [-0.09482605,  0.10936513],\n",
       "       [-0.02091064,  0.07816187],\n",
       "       [ 0.067202  , -0.13081785],\n",
       "       [ 0.06282595,  0.00732988],\n",
       "       [ 0.03698307,  0.03824708],\n",
       "       [-0.09359904,  0.04662686],\n",
       "       [-0.05470139,  0.06403302],\n",
       "       [ 0.0381394 , -0.1087984 ],\n",
       "       [-0.00443589, -0.10604606],\n",
       "       [-0.02454349, -0.11469   ],\n",
       "       [-0.08924092,  0.07755981],\n",
       "       [-0.09328832,  0.0668366 ],\n",
       "       [ 0.06529084,  0.03297477],\n",
       "       [ 0.02907128,  0.01151431],\n",
       "       [-0.07861804,  0.02711395],\n",
       "       [-0.01248493,  0.08724813],\n",
       "       [ 0.09697026, -0.03792786],\n",
       "       [ 0.00845113,  0.04121019],\n",
       "       [-0.07129409, -0.10324844],\n",
       "       [ 0.03401501, -0.0225021 ],\n",
       "       [ 0.00181259, -0.11574756],\n",
       "       [-0.08025645, -0.08327061],\n",
       "       [ 0.06083976, -0.07911878],\n",
       "       [-0.03247371,  0.13111671],\n",
       "       [-0.11666918,  0.04950061],\n",
       "       [-0.09820249, -0.03422699],\n",
       "       [ 0.0125593 , -0.10093784],\n",
       "       [ 0.00225842, -0.09391744],\n",
       "       [-0.11814247,  0.02812536],\n",
       "       [ 0.04544955,  0.11132667],\n",
       "       [ 0.14755267,  0.00046618],\n",
       "       [-0.14092907,  0.05673668],\n",
       "       [-0.12797624,  0.02097842],\n",
       "       [ 0.08719428,  0.1000644 ],\n",
       "       [ 0.07612267,  0.13625362],\n",
       "       [ 0.12365374,  0.01395361],\n",
       "       [ 0.01986242,  0.06820455],\n",
       "       [ 0.12273803,  0.05775787],\n",
       "       [ 0.0683983 ,  0.10692295],\n",
       "       [ 0.00949487,  0.03920417],\n",
       "       [-0.01974894,  0.0441994 ],\n",
       "       [ 0.15066094,  0.05345186],\n",
       "       [ 0.09232059,  0.07801226],\n",
       "       [-0.07531875,  0.10443523],\n",
       "       [ 0.11885972,  0.0905572 ],\n",
       "       [-0.07655509,  0.06966954],\n",
       "       [ 0.10028682,  0.03870656],\n",
       "       [-0.12651172,  0.02470757],\n",
       "       [ 0.15007261,  0.04118518],\n",
       "       [-0.03289826,  0.09233535],\n",
       "       [ 0.10860676, -0.00397222],\n",
       "       [ 0.10144743, -0.06438104],\n",
       "       [ 0.09774162, -0.12008413],\n",
       "       [-0.14538901,  0.0546873 ],\n",
       "       [ 0.01473601, -0.08929343],\n",
       "       [ 0.10574654,  0.10819306],\n",
       "       [ 0.09092595, -0.05585574],\n",
       "       [-0.06066937,  0.04541166],\n",
       "       [ 0.06495274,  0.05387662],\n",
       "       [ 0.01410409,  0.07528492],\n",
       "       [-0.03743389,  0.11136853],\n",
       "       [ 0.06149987,  0.12984299],\n",
       "       [-0.15252918,  0.07915557],\n",
       "       [ 0.14845479, -0.00749639],\n",
       "       [ 0.01699361, -0.03626073],\n",
       "       [-0.14548522,  0.0341059 ],\n",
       "       [ 0.12953476,  0.05458713],\n",
       "       [ 0.05099518, -0.07897245],\n",
       "       [ 0.04703936,  0.07159253],\n",
       "       [ 0.02480873,  0.11877849],\n",
       "       [ 0.08512868,  0.11805267],\n",
       "       [ 0.15721786, -0.05264487],\n",
       "       [ 0.09967064, -0.05551472],\n",
       "       [ 0.15337789, -0.0688851 ],\n",
       "       [-0.09056154,  0.09041478],\n",
       "       [-0.09688697,  0.01672181],\n",
       "       [-0.07646028,  0.06271203],\n",
       "       [ 0.15254935,  0.00106485],\n",
       "       [ 0.0038186 ,  0.09019541],\n",
       "       [ 0.07517773,  0.09866637],\n",
       "       [ 0.04168824, -0.02023495],\n",
       "       [ 0.13700225,  0.10036264],\n",
       "       [ 0.11165545,  0.10343888],\n",
       "       [-0.04387473,  0.13182962],\n",
       "       [ 0.11679014,  0.10540643],\n",
       "       [ 0.11181255,  0.1374458 ],\n",
       "       [ 0.06315147, -0.02198711],\n",
       "       [-0.08545329,  0.13148899],\n",
       "       [ 0.0582145 , -0.10740472],\n",
       "       [-0.00417126,  0.00396847],\n",
       "       [ 0.06322116,  0.07141582],\n",
       "       [ 0.11471419,  0.04422142],\n",
       "       [ 0.12115273, -0.01733756],\n",
       "       [-0.06732633,  0.03154472],\n",
       "       [ 0.02979831,  0.08384455],\n",
       "       [-0.14457246,  0.05413874],\n",
       "       [ 0.01329723,  0.03442254],\n",
       "       [-0.05615683,  0.06165698],\n",
       "       [-0.10301076, -0.00083652],\n",
       "       [-0.04320841,  0.03944054],\n",
       "       [ 0.10169498, -0.01997951],\n",
       "       [ 0.03215196,  0.06294943],\n",
       "       [-0.01579252,  0.00269926],\n",
       "       [-0.02844678,  0.02650144],\n",
       "       [ 0.08307202, -0.05784932],\n",
       "       [ 0.09498511, -0.08657403],\n",
       "       [ 0.12676183, -0.04305851],\n",
       "       [-0.03695897,  0.01937038],\n",
       "       [ 0.03377831,  0.07101106]])"
      ]
     },
     "execution_count": 15,
     "metadata": {},
     "output_type": "execute_result"
    }
   ],
   "source": [
    "# Your code here:\n",
    "\n",
    "#esto sería como lo hace Marc\n",
    "#from sklearn.decomposition import PCA\n",
    "#pca = PCA(n_components=2)\n",
    "#XReduced = pd.DataFrame(pca.fit_transform(new_array))\n",
    "#XReduced\n",
    "\n",
    "from statsmodels.multivariate.pca import PCA\n",
    "pc = PCA(new_array, ncomp=2, method='nipals')\n",
    "pc\n",
    "pc.factors.shape\n",
    "pc.factors"
   ]
  },
  {
   "cell_type": "markdown",
   "metadata": {},
   "source": [
    "Use `numpy` to find to transpose the standardized pet array. This will help us compute the projection."
   ]
  },
  {
   "cell_type": "code",
   "execution_count": 16,
   "metadata": {},
   "outputs": [
    {
     "data": {
      "text/plain": [
       "array([[ 2.37662907, -0.30753004,  0.93254857, ..., -1.80817356,\n",
       "         1.42293481, -0.20363951],\n",
       "       [ 2.37662907, -0.40500299,  1.15681724, ..., -2.06459792,\n",
       "         1.44036713, -0.05437635],\n",
       "       [ 2.37662907, -0.68349716,  0.93254857, ..., -1.73124626,\n",
       "         1.45779946, -0.07925354],\n",
       "       ...,\n",
       "       [ 0.22755315, -0.68349716,  0.63352369, ..., -0.65426398,\n",
       "         0.67334483,  0.11976401],\n",
       "       [ 0.22755315, -0.40500299,  0.35941754, ..., -0.32091232,\n",
       "         0.70820948, -0.45241144],\n",
       "       [ 0.22755315, -0.40500299,  0.35941754, ..., -0.67990641,\n",
       "         0.62104786,  0.09488681]])"
      ]
     },
     "execution_count": 16,
     "metadata": {},
     "output_type": "execute_result"
    }
   ],
   "source": [
    "# Your code here:\n",
    "\n",
    "dogs_cats=np.transpose(new_array)\n",
    "dogs_cats"
   ]
  },
  {
   "cell_type": "markdown",
   "metadata": {},
   "source": [
    "Find the dot product of the transposed standardized pet matrix and the `factors` of the `PCA` model found above. This will be the projection onto 2 dimensions. This means that each cat and dog image will now only have two columns instead of 4096."
   ]
  },
  {
   "cell_type": "code",
   "execution_count": 17,
   "metadata": {},
   "outputs": [
    {
     "data": {
      "text/plain": [
       "array([[-9.48028923,  9.6291075 ],\n",
       "       [-9.61705564,  9.02879919],\n",
       "       [-9.61021473,  8.99852694],\n",
       "       ...,\n",
       "       [-1.90483121,  2.96582352],\n",
       "       [-1.68762383,  2.86271355],\n",
       "       [-1.44878855,  2.98037083]])"
      ]
     },
     "execution_count": 17,
     "metadata": {},
     "output_type": "execute_result"
    }
   ],
   "source": [
    "# Your code here:\n",
    "np.dot(dogs_cats, pc.factors)"
   ]
  },
  {
   "cell_type": "markdown",
   "metadata": {},
   "source": [
    "# Challenge 3 - Plotting the Data\n",
    "\n",
    "Now that we have reduced our cats and dogs arrays, we can easily plot the data in a way that the human eye can understand. We can look at this plot to see whether there are differences between the cat and dog images. \n",
    "\n",
    "In the cell below, turn the two dimensional projection into a pandas dataframe and name the columns `pc1`, and `pc2` respectively."
   ]
  },
  {
   "cell_type": "code",
   "execution_count": 18,
   "metadata": {},
   "outputs": [],
   "source": [
    "# Your code here:\n",
    "\n"
   ]
  },
  {
   "cell_type": "markdown",
   "metadata": {},
   "source": [
    "Create a labels list. This list will be of size 160. The first 80 elements in the list will be the word `blue`, and the last 80 elements will be `red`. This will ensure that all dog observations will be colored in blue and all cats will be colored in red. Name this list `colors`."
   ]
  },
  {
   "cell_type": "code",
   "execution_count": 19,
   "metadata": {},
   "outputs": [],
   "source": [
    "# Your code here:\n",
    "\n"
   ]
  },
  {
   "cell_type": "markdown",
   "metadata": {},
   "source": [
    "Create a scatter plot of `pc1` and `pc2` below. Use the `colors` list above to color the observations by setting `c=colors`."
   ]
  },
  {
   "cell_type": "code",
   "execution_count": 20,
   "metadata": {},
   "outputs": [],
   "source": [
    "# Your code here:\n",
    "\n"
   ]
  },
  {
   "cell_type": "markdown",
   "metadata": {},
   "source": [
    "Do you see a clear separation between cats and dogs? Write your answer below."
   ]
  },
  {
   "cell_type": "code",
   "execution_count": 21,
   "metadata": {},
   "outputs": [],
   "source": [
    "# Your conclusions here:\n",
    "\n"
   ]
  },
  {
   "cell_type": "code",
   "execution_count": null,
   "metadata": {},
   "outputs": [],
   "source": []
  }
 ],
 "metadata": {
  "kernelspec": {
   "display_name": "Python 3",
   "language": "python",
   "name": "python3"
  },
  "language_info": {
   "codemirror_mode": {
    "name": "ipython",
    "version": 3
   },
   "file_extension": ".py",
   "mimetype": "text/x-python",
   "name": "python",
   "nbconvert_exporter": "python",
   "pygments_lexer": "ipython3",
   "version": "3.5.2"
  }
 },
 "nbformat": 4,
 "nbformat_minor": 2
}
