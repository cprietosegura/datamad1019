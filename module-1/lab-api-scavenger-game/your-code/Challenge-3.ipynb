{
 "cells": [
  {
   "cell_type": "code",
   "execution_count": 1,
   "metadata": {},
   "outputs": [
    {
     "data": {
      "text/plain": [
       "True"
      ]
     },
     "execution_count": 1,
     "metadata": {},
     "output_type": "execute_result"
    }
   ],
   "source": [
    "import requests\n",
    "import os\n",
    "from dotenv import load_dotenv\n",
    "load_dotenv()"
   ]
  },
  {
   "cell_type": "code",
   "execution_count": 2,
   "metadata": {},
   "outputs": [],
   "source": [
    "def githubRequestAuthorized(resource):\n",
    "    authToken = os.getenv(\"TOKEN\")\n",
    "    if not authToken:\n",
    "        raise ValueError(\"NECESITAS UN TOKEN\")\n",
    "    else:\n",
    "        print(\"We have a github token: \", authToken[0:4])\n",
    "    headers = {\n",
    "        \"Authorization\": \"token {}\".format(authToken)\n",
    "    }\n",
    "    url = \"https://api.github.com{}\".format(resource)\n",
    "    print(\"Requesting authorized {}\".format(url))\n",
    "    res = requests.get(url, headers=headers)\n",
    "    return res"
   ]
  },
  {
   "cell_type": "code",
   "execution_count": 3,
   "metadata": {},
   "outputs": [
    {
     "name": "stdout",
     "output_type": "stream",
     "text": [
      "We have a github token:  f0d9\n",
      "Requesting authorized https://api.github.com/repos/ironhack-datalabs/scavenger/contents\n",
      "We have a github token:  f0d9\n",
      "Requesting authorized https://api.github.com/repos/ironhack-datalabs/scavenger/contents/15024\n",
      "We have a github token:  f0d9\n",
      "Requesting authorized https://api.github.com/repos/ironhack-datalabs/scavenger/contents/15024/.0006.scavengerhunt\n"
     ]
    }
   ],
   "source": [
    "hunt = githubRequestAuthorized(\"/repos/ironhack-datalabs/scavenger/contents\").json()\n",
    "\n",
    "#inspeccionando los directorios\n",
    "dentro= githubRequestAuthorized(\"/repos/ironhack-datalabs/scavenger/contents/15024\").json()\n",
    "dentrocarpeta= githubRequestAuthorized(\"/repos/ironhack-datalabs/scavenger/contents/15024/.0006.scavengerhunt\").json()"
   ]
  },
  {
   "cell_type": "code",
   "execution_count": 30,
   "metadata": {},
   "outputs": [
    {
     "name": "stdout",
     "output_type": "stream",
     "text": [
      "['15024', '15534', '17020', '30351', '40303', '44639', '45525', '47222', '47830', '49418', '50896', '55417', '55685', '60224', '64880', '66032', '68848', '70751', '70985', '88596', '89046', '89338', '91701', '97881', '98750']\n"
     ]
    }
   ],
   "source": [
    "path_contenidos=[i['name'] for i in hunt if i['name']!='.gitignore']\n",
    "print(path_contenidos)\n"
   ]
  },
  {
   "cell_type": "code",
   "execution_count": 11,
   "metadata": {},
   "outputs": [
    {
     "name": "stdout",
     "output_type": "stream",
     "text": [
      "['.0006.scavengerhunt']\n"
     ]
    }
   ],
   "source": [
    "#path_carpetas=[]\n",
    "#import re\n",
    "#prueba='.0006.scavengerhunt'\n",
    "#print(re.findall(\"\\.00\\d\\d\\.scavengerhunt\", prueba))\"\"\""
   ]
  },
  {
   "cell_type": "code",
   "execution_count": 31,
   "metadata": {},
   "outputs": [],
   "source": [
    "path_ficheros = []\n",
    "for f in range(1, 24):\n",
    "    if f < 10:\n",
    "        path_ficheros.append(str('.000{}.scavengerhunt'.format(f)))\n",
    "    else:\n",
    "        path_ficheros.append(str('.00{}.scavengerhunt'.format(f)))"
   ]
  },
  {
   "cell_type": "code",
   "execution_count": 45,
   "metadata": {},
   "outputs": [
    {
     "name": "stdout",
     "output_type": "stream",
     "text": [
      "We have a github token:  f0d9\n",
      "Requesting authorized https://api.github.com/repos/ironhack-datalabs/scavenger/contents/15024\n",
      "We have a github token:  f0d9\n",
      "Requesting authorized https://api.github.com/repos/ironhack-datalabs/scavenger/contents/15024/.0006.scavengerhunt\n",
      "We have a github token:  f0d9\n",
      "Requesting authorized https://api.github.com/repos/ironhack-datalabs/scavenger/contents/15534\n",
      "We have a github token:  f0d9\n",
      "Requesting authorized https://api.github.com/repos/ironhack-datalabs/scavenger/contents/15534/.0008.scavengerhunt\n",
      "We have a github token:  f0d9\n",
      "Requesting authorized https://api.github.com/repos/ironhack-datalabs/scavenger/contents/15534/.0012.scavengerhunt\n",
      "We have a github token:  f0d9\n",
      "Requesting authorized https://api.github.com/repos/ironhack-datalabs/scavenger/contents/17020\n",
      "We have a github token:  f0d9\n",
      "Requesting authorized https://api.github.com/repos/ironhack-datalabs/scavenger/contents/17020/.0007.scavengerhunt\n",
      "We have a github token:  f0d9\n",
      "Requesting authorized https://api.github.com/repos/ironhack-datalabs/scavenger/contents/30351\n",
      "We have a github token:  f0d9\n",
      "Requesting authorized https://api.github.com/repos/ironhack-datalabs/scavenger/contents/30351/.0021.scavengerhunt\n",
      "We have a github token:  f0d9\n",
      "Requesting authorized https://api.github.com/repos/ironhack-datalabs/scavenger/contents/40303\n",
      "We have a github token:  f0d9\n",
      "Requesting authorized https://api.github.com/repos/ironhack-datalabs/scavenger/contents/40303/.0022.scavengerhunt\n",
      "We have a github token:  f0d9\n",
      "Requesting authorized https://api.github.com/repos/ironhack-datalabs/scavenger/contents/44639\n",
      "We have a github token:  f0d9\n",
      "Requesting authorized https://api.github.com/repos/ironhack-datalabs/scavenger/contents/44639/.0005.scavengerhunt\n",
      "We have a github token:  f0d9\n",
      "Requesting authorized https://api.github.com/repos/ironhack-datalabs/scavenger/contents/45525\n",
      "We have a github token:  f0d9\n",
      "Requesting authorized https://api.github.com/repos/ironhack-datalabs/scavenger/contents/45525/.0018.scavengerhunt\n",
      "We have a github token:  f0d9\n",
      "Requesting authorized https://api.github.com/repos/ironhack-datalabs/scavenger/contents/47222\n",
      "We have a github token:  f0d9\n",
      "Requesting authorized https://api.github.com/repos/ironhack-datalabs/scavenger/contents/47222/.0016.scavengerhunt\n",
      "We have a github token:  f0d9\n",
      "Requesting authorized https://api.github.com/repos/ironhack-datalabs/scavenger/contents/47830\n",
      "We have a github token:  f0d9\n",
      "Requesting authorized https://api.github.com/repos/ironhack-datalabs/scavenger/contents/47830/.0010.scavengerhunt\n",
      "We have a github token:  f0d9\n",
      "Requesting authorized https://api.github.com/repos/ironhack-datalabs/scavenger/contents/49418\n",
      "We have a github token:  f0d9\n",
      "Requesting authorized https://api.github.com/repos/ironhack-datalabs/scavenger/contents/49418/.0014.scavengerhunt\n",
      "We have a github token:  f0d9\n",
      "Requesting authorized https://api.github.com/repos/ironhack-datalabs/scavenger/contents/50896\n",
      "We have a github token:  f0d9\n",
      "Requesting authorized https://api.github.com/repos/ironhack-datalabs/scavenger/contents/50896/.0011.scavengerhunt\n",
      "We have a github token:  f0d9\n",
      "Requesting authorized https://api.github.com/repos/ironhack-datalabs/scavenger/contents/55417\n",
      "We have a github token:  f0d9\n",
      "Requesting authorized https://api.github.com/repos/ironhack-datalabs/scavenger/contents/55417/.0023.scavengerhunt\n",
      "We have a github token:  f0d9\n",
      "Requesting authorized https://api.github.com/repos/ironhack-datalabs/scavenger/contents/55685\n",
      "We have a github token:  f0d9\n",
      "Requesting authorized https://api.github.com/repos/ironhack-datalabs/scavenger/contents/55685/.0020.scavengerhunt\n",
      "We have a github token:  f0d9\n",
      "Requesting authorized https://api.github.com/repos/ironhack-datalabs/scavenger/contents/60224\n",
      "We have a github token:  f0d9\n",
      "Requesting authorized https://api.github.com/repos/ironhack-datalabs/scavenger/contents/60224/.0003.scavengerhunt\n",
      "We have a github token:  f0d9\n",
      "Requesting authorized https://api.github.com/repos/ironhack-datalabs/scavenger/contents/64880\n",
      "We have a github token:  f0d9\n",
      "Requesting authorized https://api.github.com/repos/ironhack-datalabs/scavenger/contents/66032\n",
      "We have a github token:  f0d9\n",
      "Requesting authorized https://api.github.com/repos/ironhack-datalabs/scavenger/contents/68848\n",
      "We have a github token:  f0d9\n",
      "Requesting authorized https://api.github.com/repos/ironhack-datalabs/scavenger/contents/68848/.0004.scavengerhunt\n",
      "We have a github token:  f0d9\n",
      "Requesting authorized https://api.github.com/repos/ironhack-datalabs/scavenger/contents/70751\n",
      "We have a github token:  f0d9\n",
      "Requesting authorized https://api.github.com/repos/ironhack-datalabs/scavenger/contents/70751/.0019.scavengerhunt\n",
      "We have a github token:  f0d9\n",
      "Requesting authorized https://api.github.com/repos/ironhack-datalabs/scavenger/contents/70985\n",
      "We have a github token:  f0d9\n",
      "Requesting authorized https://api.github.com/repos/ironhack-datalabs/scavenger/contents/70985/.0017.scavengerhunt\n",
      "We have a github token:  f0d9\n",
      "Requesting authorized https://api.github.com/repos/ironhack-datalabs/scavenger/contents/88596\n",
      "We have a github token:  f0d9\n",
      "Requesting authorized https://api.github.com/repos/ironhack-datalabs/scavenger/contents/88596/.0002.scavengerhunt\n",
      "We have a github token:  f0d9\n",
      "Requesting authorized https://api.github.com/repos/ironhack-datalabs/scavenger/contents/89046\n",
      "We have a github token:  f0d9\n",
      "Requesting authorized https://api.github.com/repos/ironhack-datalabs/scavenger/contents/89338\n",
      "We have a github token:  f0d9\n",
      "Requesting authorized https://api.github.com/repos/ironhack-datalabs/scavenger/contents/89338/.0013.scavengerhunt\n",
      "We have a github token:  f0d9\n",
      "Requesting authorized https://api.github.com/repos/ironhack-datalabs/scavenger/contents/91701\n",
      "We have a github token:  f0d9\n",
      "Requesting authorized https://api.github.com/repos/ironhack-datalabs/scavenger/contents/91701/.0015.scavengerhunt\n",
      "We have a github token:  f0d9\n",
      "Requesting authorized https://api.github.com/repos/ironhack-datalabs/scavenger/contents/97881\n",
      "We have a github token:  f0d9\n",
      "Requesting authorized https://api.github.com/repos/ironhack-datalabs/scavenger/contents/97881/.0009.scavengerhunt\n",
      "We have a github token:  f0d9\n",
      "Requesting authorized https://api.github.com/repos/ironhack-datalabs/scavenger/contents/98750\n",
      "We have a github token:  f0d9\n",
      "Requesting authorized https://api.github.com/repos/ironhack-datalabs/scavenger/contents/98750/.0001.scavengerhunt\n"
     ]
    }
   ],
   "source": [
    "import base64\n",
    "ficheros={}\n",
    "for p in path_contenidos:\n",
    "    r='/repos/ironhack-datalabs/scavenger/contents/'+p\n",
    "    h = githubRequestAuthorized(r).json()\n",
    "    \n",
    "    for j in range(len(h)):\n",
    "        file_name = h[j]['name']\n",
    "        if file_name in path_ficheros:\n",
    "            r2='/repos/ironhack-datalabs/scavenger/contents/{}/{}'.format(p,file_name)\n",
    "            h2 = githubRequestAuthorized(r2).json()\n",
    "            ficheros[file_name]=base64.b64decode(h2['content'])\n"
   ]
  },
  {
   "cell_type": "code",
   "execution_count": 46,
   "metadata": {},
   "outputs": [
    {
     "name": "stdout",
     "output_type": "stream",
     "text": [
      "{'.0021.scavengerhunt': b'need\\n', '.0022.scavengerhunt': b'to\\n', '.0012.scavengerhunt': b'20\\n', '.0020.scavengerhunt': b'the\\n', '.0015.scavengerhunt': b'time\\n', '.0005.scavengerhunt': b'percent\\n', '.0001.scavengerhunt': b'In\\n', '.0010.scavengerhunt': b'preparing\\n', '.0006.scavengerhunt': b'of\\n', '.0023.scavengerhunt': b'prepare\\n', '.0016.scavengerhunt': b'is\\n', '.0003.scavengerhunt': b'science,\\n', '.0018.scavengerhunt': b'complaining\\n', '.0019.scavengerhunt': b'about\\n', '.0007.scavengerhunt': b'time\\n', '.0008.scavengerhunt': b'spent\\n', '.0013.scavengerhunt': b'percent\\n', '.0014.scavengerhunt': b'of\\n', '.0009.scavengerhunt': b'is\\n', '.0017.scavengerhunt': b'spent\\n', '.0011.scavengerhunt': b'data,\\n', '.0004.scavengerhunt': b'80\\n', '.0002.scavengerhunt': b'data\\n'}\n"
     ]
    }
   ],
   "source": [
    "print(ficheros)"
   ]
  },
  {
   "cell_type": "code",
   "execution_count": 50,
   "metadata": {},
   "outputs": [
    {
     "data": {
      "text/plain": [
       "[('.0001.scavengerhunt', b'In\\n'),\n",
       " ('.0002.scavengerhunt', b'data\\n'),\n",
       " ('.0003.scavengerhunt', b'science,\\n'),\n",
       " ('.0004.scavengerhunt', b'80\\n'),\n",
       " ('.0005.scavengerhunt', b'percent\\n'),\n",
       " ('.0006.scavengerhunt', b'of\\n'),\n",
       " ('.0007.scavengerhunt', b'time\\n'),\n",
       " ('.0008.scavengerhunt', b'spent\\n'),\n",
       " ('.0009.scavengerhunt', b'is\\n'),\n",
       " ('.0010.scavengerhunt', b'preparing\\n'),\n",
       " ('.0011.scavengerhunt', b'data,\\n'),\n",
       " ('.0012.scavengerhunt', b'20\\n'),\n",
       " ('.0013.scavengerhunt', b'percent\\n'),\n",
       " ('.0014.scavengerhunt', b'of\\n'),\n",
       " ('.0015.scavengerhunt', b'time\\n'),\n",
       " ('.0016.scavengerhunt', b'is\\n'),\n",
       " ('.0017.scavengerhunt', b'spent\\n'),\n",
       " ('.0018.scavengerhunt', b'complaining\\n'),\n",
       " ('.0019.scavengerhunt', b'about\\n'),\n",
       " ('.0020.scavengerhunt', b'the\\n'),\n",
       " ('.0021.scavengerhunt', b'need\\n'),\n",
       " ('.0022.scavengerhunt', b'to\\n'),\n",
       " ('.0023.scavengerhunt', b'prepare\\n')]"
      ]
     },
     "execution_count": 50,
     "metadata": {},
     "output_type": "execute_result"
    }
   ],
   "source": [
    "sorted(ficheros.items(), key=lambda x:(x[0]))\n"
   ]
  },
  {
   "cell_type": "code",
   "execution_count": null,
   "metadata": {},
   "outputs": [],
   "source": []
  }
 ],
 "metadata": {
  "kernelspec": {
   "display_name": "Python 3",
   "language": "python",
   "name": "python3"
  },
  "language_info": {
   "codemirror_mode": {
    "name": "ipython",
    "version": 3
   },
   "file_extension": ".py",
   "mimetype": "text/x-python",
   "name": "python",
   "nbconvert_exporter": "python",
   "pygments_lexer": "ipython3",
   "version": "3.5.2"
  }
 },
 "nbformat": 4,
 "nbformat_minor": 2
}
